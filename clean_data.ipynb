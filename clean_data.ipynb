{
 "cells": [
  {
   "cell_type": "code",
   "execution_count": 18,
   "metadata": {},
   "outputs": [],
   "source": [
    "import pandas as pd\n",
    "import numpy as np\n",
    "import matplotlib.pyplot as plt"
   ]
  },
  {
   "cell_type": "code",
   "execution_count": 19,
   "metadata": {},
   "outputs": [],
   "source": [
    "# Defined functions\n",
    "# NA check\n",
    "def findnanrows(df):\n",
    "    is_NaN = df.isnull() \n",
    "    row_has_NaN = is_NaN.any(axis=1) \n",
    "    rows_with_NaN = df[row_has_NaN] \n",
    "    return rows_with_NaN\n",
    "\n",
    "# missing \n",
    "def interpolatedata(df):\n",
    "    filldf = df.groupby(pd.Grouper(freq='10T')).mean()\n",
    "    dfnan = findnanrows(filldf)\n",
    "    print(\"==> %s rows have been filled <==\" %len(dfnan))\n",
    "    filldf = filldf.interpolate().round(2)\n",
    "    return filldf\n",
    "\n",
    "# load data\n",
    "def loaddata(sartyear, endyear):\n",
    "    urlpath = 'https://www.bgc-jena.mpg.de/wetter/'\n",
    "    urllist = []\n",
    "    df = pd.DataFrame()\n",
    "    for year in np.arange(sartyear, endyear, 1):\n",
    "        urllist.append(urlpath+\"mpi_roof_\"+str(year)+\"a.zip\")\n",
    "        urllist.append(urlpath+\"mpi_roof_\"+str(year)+\"b.zip\")\n",
    "    for url in urllist:\n",
    "        df = df.append(pd.read_csv(url, encoding='unicode_escape', parse_dates=True, index_col=\"Date Time\"))\n",
    "    df.index.name = 'datetime'\n",
    "    return df\n",
    "\n",
    "#ACF\n",
    "def cal_ACF(y, lag, sample_plot_name):\n",
    "    mean = np.mean(y)\n",
    "    D = sum((y-mean)**2)\n",
    "    R = []\n",
    "    for tao in range(lag+1):\n",
    "        S = 0\n",
    "        for t in range(tao, len(y)):\n",
    "            N = (y[t]-mean)*(y[t-tao]-mean)\n",
    "            S += N\n",
    "        r = S/D\n",
    "        R.append(r)\n",
    "    R_inv = R[::-1]\n",
    "    Magnitute = R_inv + R[1:]\n",
    "    ax = plt.figure()\n",
    "    x_values = range(-lag, lag + 1)\n",
    "    (markers, stemlines, baseline) = plt.stem(x_values, Magnitute, markerfmt='o')\n",
    "    plt.setp(markers, color = 'red')\n",
    "    m = 1.96/np.sqrt(len(y))\n",
    "    plt.axhspan(-m, m, alpha = 0.2, color = 'blue')\n",
    "    plt.xlabel('Lags')\n",
    "    plt.ylabel('Magnitute')\n",
    "    plt.title(f'Autocorrelation Function of {sample_plot_name}' )\n",
    "    plt.show()\n",
    "    return ax"
   ]
  },
  {
   "cell_type": "code",
   "execution_count": 20,
   "metadata": {},
   "outputs": [
    {
     "name": "stderr",
     "output_type": "stream",
     "text": [
      "/var/folders/fq/s6_sst4x3cv_zj9lkplg7f640000gn/T/ipykernel_45941/1813278560.py:26: FutureWarning: The frame.append method is deprecated and will be removed from pandas in a future version. Use pandas.concat instead.\n",
      "  df = df.append(pd.read_csv(url, encoding='unicode_escape', parse_dates=True, index_col=\"Date Time\"))\n",
      "/var/folders/fq/s6_sst4x3cv_zj9lkplg7f640000gn/T/ipykernel_45941/1813278560.py:26: FutureWarning: The frame.append method is deprecated and will be removed from pandas in a future version. Use pandas.concat instead.\n",
      "  df = df.append(pd.read_csv(url, encoding='unicode_escape', parse_dates=True, index_col=\"Date Time\"))\n",
      "/var/folders/fq/s6_sst4x3cv_zj9lkplg7f640000gn/T/ipykernel_45941/1813278560.py:26: FutureWarning: The frame.append method is deprecated and will be removed from pandas in a future version. Use pandas.concat instead.\n",
      "  df = df.append(pd.read_csv(url, encoding='unicode_escape', parse_dates=True, index_col=\"Date Time\"))\n",
      "/var/folders/fq/s6_sst4x3cv_zj9lkplg7f640000gn/T/ipykernel_45941/1813278560.py:26: FutureWarning: The frame.append method is deprecated and will be removed from pandas in a future version. Use pandas.concat instead.\n",
      "  df = df.append(pd.read_csv(url, encoding='unicode_escape', parse_dates=True, index_col=\"Date Time\"))\n"
     ]
    }
   ],
   "source": [
    "raw_data = loaddata(sartyear=2019, endyear=2021)"
   ]
  },
  {
   "cell_type": "code",
   "execution_count": 21,
   "metadata": {},
   "outputs": [],
   "source": [
    "#raw_data = pd.read_csv(\"raw_dataset.csv\")"
   ]
  },
  {
   "cell_type": "code",
   "execution_count": 22,
   "metadata": {},
   "outputs": [
    {
     "name": "stdout",
     "output_type": "stream",
     "text": [
      "Shape of raw dataset: (105256, 21)\n",
      "NA in the raw dataset: Empty DataFrame\n",
      "Columns: [p (mbar), T (degC), Tpot (K), Tdew (degC), rh (%), VPmax (mbar), VPact (mbar), VPdef (mbar), sh (g/kg), H2OC (mmol/mol), rho (g/m**3), wv (m/s), max. wv (m/s), wd (deg), rain (mm), raining (s), SWDR (W/m²), PAR (µmol/m²/s), max. PAR (µmol/m²/s), Tlog (degC), CO2 (ppm)]\n",
      "Index: []\n",
      "\n",
      "[0 rows x 21 columns]\n"
     ]
    }
   ],
   "source": [
    "# raw dataset \n",
    "print(f\"Shape of raw dataset: {raw_data.shape}\")\n",
    "print(f\"NA in the raw dataset: {findnanrows(raw_data)}\")\n",
    "# save the raw dataset \n",
    "raw_data.to_csv(\"raw_dataset.csv\")"
   ]
  },
  {
   "cell_type": "code",
   "execution_count": 23,
   "metadata": {},
   "outputs": [
    {
     "name": "stdout",
     "output_type": "stream",
     "text": [
      "==> 9 rows have been filled <==\n"
     ]
    }
   ],
   "source": [
    "# Missing observations\n",
    "df = interpolatedata(raw_data)\n",
    "#print(df.shape)"
   ]
  },
  {
   "cell_type": "code",
   "execution_count": 25,
   "metadata": {},
   "outputs": [
    {
     "name": "stdout",
     "output_type": "stream",
     "text": [
      "Hourly_df shape (17545, 21)\n"
     ]
    }
   ],
   "source": [
    "#change date format, remove index\n",
    "date_range = pd.date_range(start=\"2019-01-01 00:10:00\", end=\"2021-01-01 00:00:00\", freq=\"10T\")\n",
    "df.insert(0, \"date\", date_range)\n",
    "df = df.reset_index()\n",
    "df = df.iloc[:, 1:]\n",
    "df = df.set_index('date')\n",
    "hourly_df = df.resample(\"60T\").mean()\n",
    "print(f\"Hourly_df shape {hourly_df.shape}\")"
   ]
  },
  {
   "cell_type": "code",
   "execution_count": 26,
   "metadata": {},
   "outputs": [
    {
     "data": {
      "text/plain": [
       "count    17545.000000\n",
       "mean         2.042032\n",
       "std         12.676319\n",
       "min      -1664.906667\n",
       "25%          1.015000\n",
       "50%          1.750000\n",
       "75%          2.795000\n",
       "max         13.215000\n",
       "Name: wv (m/s), dtype: float64"
      ]
     },
     "execution_count": 26,
     "metadata": {},
     "output_type": "execute_result"
    }
   ],
   "source": [
    "# Target varibale statistics\n",
    "hourly_df[\"wv (m/s)\"].describe()"
   ]
  },
  {
   "cell_type": "code",
   "execution_count": 27,
   "metadata": {},
   "outputs": [],
   "source": [
    "# Outlier - change the minimum to mean\n",
    "mean_wind = hourly_df[\"wv (m/s)\"].mean()\n",
    "min_wind = hourly_df[\"wv (m/s)\"].min()\n",
    "hourly_df[\"wv (m/s)\"] = hourly_df[\"wv (m/s)\"].replace(min_wind, mean_wind)\n",
    "hourly_df = hourly_df.reset_index()"
   ]
  },
  {
   "cell_type": "code",
   "execution_count": null,
   "metadata": {},
   "outputs": [],
   "source": [
    "#hourly_df.to_csv(\"hourly_df.csv\", index = False)"
   ]
  },
  {
   "cell_type": "code",
   "execution_count": 28,
   "metadata": {},
   "outputs": [],
   "source": [
    "df = pd.read_csv(\"hourly_df.csv\")"
   ]
  },
  {
   "cell_type": "code",
   "execution_count": 29,
   "metadata": {},
   "outputs": [
    {
     "data": {
      "image/png": "[encoded data removed]",
      "text/plain": [
       "<Figure size 720x432 with 1 Axes>"
      ]
     },
     "metadata": {
      "needs_background": "light"
     },
     "output_type": "display_data"
    }
   ],
   "source": [
    "plt.figure(figsize=(10, 6))\n",
    "plt.plot(df['date'], df[\"wv (m/s)\"], marker='o', linestyle='-', color='b', label='wind speed')\n",
    "plt.legend()\n",
    "plt.tight_layout()\n",
    "plt.show()"
   ]
  },
  {
   "cell_type": "code",
   "execution_count": null,
   "metadata": {},
   "outputs": [
    {
     "name": "stderr",
     "output_type": "stream",
     "text": [
      "/opt/anaconda3/lib/python3.9/site-packages/numpy/core/fromnumeric.py:3438: FutureWarning: In a future version, DataFrame.mean(axis=None) will return a scalar mean over the entire DataFrame. To retain the old behavior, use 'frame.mean(axis=0)' or just 'frame.mean()'\n",
      "  return mean(axis=axis, dtype=dtype, out=out, **kwargs)\n",
      "/opt/anaconda3/lib/python3.9/site-packages/numpy/core/fromnumeric.py:3438: FutureWarning: Dropping of nuisance columns in DataFrame reductions (with 'numeric_only=None') is deprecated; in a future version this will raise TypeError.  Select only valid columns before calling the reduction.\n",
      "  return mean(axis=axis, dtype=dtype, out=out, **kwargs)\n"
     ]
    },
    {
     "ename": "TypeError",
     "evalue": "unsupported operand type(s) for +: 'int' and 'str'",
     "output_type": "error",
     "traceback": [
      "\u001b[0;31m---------------------------------------------------------------------------\u001b[0m",
      "\u001b[0;31mTypeError\u001b[0m                                 Traceback (most recent call last)",
      "\u001b[1;32m/Users/lianggao/Desktop/Time_series-final_project/clean_data.ipynb Cell 13\u001b[0m line \u001b[0;36m<cell line: 1>\u001b[0;34m()\u001b[0m\n\u001b[0;32m----> <a href='vscode-notebook-cell:/Users/lianggao/Desktop/Time_series-final_project/clean_data.ipynb#X16sZmlsZQ%3D%3D?line=0'>1</a>\u001b[0m cal_ACF(df, \u001b[39m20\u001b[39;49m, \u001b[39m\"\u001b[39;49m\u001b[39mHourly dataset\u001b[39;49m\u001b[39m\"\u001b[39;49m)\n",
      "\u001b[1;32m/Users/lianggao/Desktop/Time_series-final_project/clean_data.ipynb Cell 13\u001b[0m line \u001b[0;36mcal_ACF\u001b[0;34m(y, lag, sample_plot_name)\u001b[0m\n\u001b[1;32m     <a href='vscode-notebook-cell:/Users/lianggao/Desktop/Time_series-final_project/clean_data.ipynb#X16sZmlsZQ%3D%3D?line=30'>31</a>\u001b[0m \u001b[39mdef\u001b[39;00m \u001b[39mcal_ACF\u001b[39m(y, lag, sample_plot_name):\n\u001b[1;32m     <a href='vscode-notebook-cell:/Users/lianggao/Desktop/Time_series-final_project/clean_data.ipynb#X16sZmlsZQ%3D%3D?line=31'>32</a>\u001b[0m     mean \u001b[39m=\u001b[39m np\u001b[39m.\u001b[39mmean(y)\n\u001b[0;32m---> <a href='vscode-notebook-cell:/Users/lianggao/Desktop/Time_series-final_project/clean_data.ipynb#X16sZmlsZQ%3D%3D?line=32'>33</a>\u001b[0m     D \u001b[39m=\u001b[39m \u001b[39msum\u001b[39;49m((y\u001b[39m-\u001b[39;49mmean)\u001b[39m*\u001b[39;49m\u001b[39m*\u001b[39;49m\u001b[39m2\u001b[39;49m)\n\u001b[1;32m     <a href='vscode-notebook-cell:/Users/lianggao/Desktop/Time_series-final_project/clean_data.ipynb#X16sZmlsZQ%3D%3D?line=33'>34</a>\u001b[0m     R \u001b[39m=\u001b[39m []\n\u001b[1;32m     <a href='vscode-notebook-cell:/Users/lianggao/Desktop/Time_series-final_project/clean_data.ipynb#X16sZmlsZQ%3D%3D?line=34'>35</a>\u001b[0m     \u001b[39mfor\u001b[39;00m tao \u001b[39min\u001b[39;00m \u001b[39mrange\u001b[39m(lag\u001b[39m+\u001b[39m\u001b[39m1\u001b[39m):\n",
      "\u001b[0;31mTypeError\u001b[0m: unsupported operand type(s) for +: 'int' and 'str'"
     ]
    }
   ],
   "source": [
    "cal_ACF(df, 20, \"Hourly dataset\")"
   ]
  }
 ],
 "metadata": {
  "kernelspec": {
   "display_name": "base",
   "language": "python",
   "name": "python3"
  },
  "language_info": {
   "codemirror_mode": {
    "name": "ipython",
    "version": 3
   },
   "file_extension": ".py",
   "mimetype": "text/x-python",
   "name": "python",
   "nbconvert_exporter": "python",
   "pygments_lexer": "ipython3",
   "version": "3.9.12"
  }
 },
 "nbformat": 4,
 "nbformat_minor": 2
}
