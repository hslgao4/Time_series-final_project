{
 "cells": [
  {
   "cell_type": "code",
   "execution_count": 82,
   "metadata": {},
   "outputs": [],
   "source": [
    "import pandas as pd\n",
    "import numpy as np\n",
    "import matplotlib.pyplot as plt"
   ]
  },
  {
   "cell_type": "code",
   "execution_count": 83,
   "metadata": {},
   "outputs": [],
   "source": [
    "def findnanrows(df):\n",
    "    is_NaN = df.isnull() \n",
    "    row_has_NaN = is_NaN.any(axis=1) \n",
    "    rows_with_NaN = df[row_has_NaN] \n",
    "    return rows_with_NaN\n",
    "\n",
    "def interpolatedata(df):\n",
    "    filldf = df.groupby(pd.Grouper(freq='10T')).mean()\n",
    "    dfnan = findnanrows(filldf)\n",
    "    print(\"==> %s rows have been filled <==\" %len(dfnan))\n",
    "    filldf = filldf.interpolate().round(2)\n",
    "    return filldf"
   ]
  },
  {
   "cell_type": "code",
   "execution_count": 84,
   "metadata": {},
   "outputs": [
    {
     "name": "stderr",
     "output_type": "stream",
     "text": [
      "/var/folders/fq/s6_sst4x3cv_zj9lkplg7f640000gn/T/ipykernel_40108/1021313106.py:9: FutureWarning: The frame.append method is deprecated and will be removed from pandas in a future version. Use pandas.concat instead.\n",
      "  df = df.append(pd.read_csv(url, encoding='unicode_escape', parse_dates=True, index_col=\"Date Time\"))\n",
      "/var/folders/fq/s6_sst4x3cv_zj9lkplg7f640000gn/T/ipykernel_40108/1021313106.py:9: FutureWarning: The frame.append method is deprecated and will be removed from pandas in a future version. Use pandas.concat instead.\n",
      "  df = df.append(pd.read_csv(url, encoding='unicode_escape', parse_dates=True, index_col=\"Date Time\"))\n",
      "/var/folders/fq/s6_sst4x3cv_zj9lkplg7f640000gn/T/ipykernel_40108/1021313106.py:9: FutureWarning: The frame.append method is deprecated and will be removed from pandas in a future version. Use pandas.concat instead.\n",
      "  df = df.append(pd.read_csv(url, encoding='unicode_escape', parse_dates=True, index_col=\"Date Time\"))\n",
      "/var/folders/fq/s6_sst4x3cv_zj9lkplg7f640000gn/T/ipykernel_40108/1021313106.py:9: FutureWarning: The frame.append method is deprecated and will be removed from pandas in a future version. Use pandas.concat instead.\n",
      "  df = df.append(pd.read_csv(url, encoding='unicode_escape', parse_dates=True, index_col=\"Date Time\"))\n",
      "/var/folders/fq/s6_sst4x3cv_zj9lkplg7f640000gn/T/ipykernel_40108/1021313106.py:9: FutureWarning: The frame.append method is deprecated and will be removed from pandas in a future version. Use pandas.concat instead.\n",
      "  df = df.append(pd.read_csv(url, encoding='unicode_escape', parse_dates=True, index_col=\"Date Time\"))\n",
      "/var/folders/fq/s6_sst4x3cv_zj9lkplg7f640000gn/T/ipykernel_40108/1021313106.py:9: FutureWarning: The frame.append method is deprecated and will be removed from pandas in a future version. Use pandas.concat instead.\n",
      "  df = df.append(pd.read_csv(url, encoding='unicode_escape', parse_dates=True, index_col=\"Date Time\"))\n",
      "/var/folders/fq/s6_sst4x3cv_zj9lkplg7f640000gn/T/ipykernel_40108/1021313106.py:9: FutureWarning: The frame.append method is deprecated and will be removed from pandas in a future version. Use pandas.concat instead.\n",
      "  df = df.append(pd.read_csv(url, encoding='unicode_escape', parse_dates=True, index_col=\"Date Time\"))\n",
      "/var/folders/fq/s6_sst4x3cv_zj9lkplg7f640000gn/T/ipykernel_40108/1021313106.py:9: FutureWarning: The frame.append method is deprecated and will be removed from pandas in a future version. Use pandas.concat instead.\n",
      "  df = df.append(pd.read_csv(url, encoding='unicode_escape', parse_dates=True, index_col=\"Date Time\"))\n",
      "/var/folders/fq/s6_sst4x3cv_zj9lkplg7f640000gn/T/ipykernel_40108/1021313106.py:9: FutureWarning: The frame.append method is deprecated and will be removed from pandas in a future version. Use pandas.concat instead.\n",
      "  df = df.append(pd.read_csv(url, encoding='unicode_escape', parse_dates=True, index_col=\"Date Time\"))\n",
      "/var/folders/fq/s6_sst4x3cv_zj9lkplg7f640000gn/T/ipykernel_40108/1021313106.py:9: FutureWarning: The frame.append method is deprecated and will be removed from pandas in a future version. Use pandas.concat instead.\n",
      "  df = df.append(pd.read_csv(url, encoding='unicode_escape', parse_dates=True, index_col=\"Date Time\"))\n"
     ]
    }
   ],
   "source": [
    "def loaddata(sartyear, endyear):\n",
    "    urlpath = 'https://www.bgc-jena.mpg.de/wetter/'\n",
    "    urllist = []\n",
    "    df = pd.DataFrame()\n",
    "    for year in np.arange(sartyear, endyear, 1):\n",
    "        urllist.append(urlpath+\"mpi_roof_\"+str(year)+\"a.zip\")\n",
    "        urllist.append(urlpath+\"mpi_roof_\"+str(year)+\"b.zip\")\n",
    "    for url in urllist:\n",
    "        df = df.append(pd.read_csv(url, encoding='unicode_escape', parse_dates=True, index_col=\"Date Time\"))\n",
    "    df.index.name = 'datetime'\n",
    "    return df\n",
    "\n",
    "raw_data = loaddata(sartyear=2016, endyear=2021)"
   ]
  },
  {
   "cell_type": "code",
   "execution_count": 85,
   "metadata": {},
   "outputs": [
    {
     "data": {
      "text/plain": [
       "(262592, 21)"
      ]
     },
     "execution_count": 85,
     "metadata": {},
     "output_type": "execute_result"
    }
   ],
   "source": [
    "# raw dataset shape\n",
    "raw_data.shape"
   ]
  },
  {
   "cell_type": "code",
   "execution_count": 86,
   "metadata": {},
   "outputs": [
    {
     "data": {
      "text/html": [
       "<div>\n",
       "<style scoped>\n",
       "    .dataframe tbody tr th:only-of-type {\n",
       "        vertical-align: middle;\n",
       "    }\n",
       "\n",
       "    .dataframe tbody tr th {\n",
       "        vertical-align: top;\n",
       "    }\n",
       "\n",
       "    .dataframe thead th {\n",
       "        text-align: right;\n",
       "    }\n",
       "</style>\n",
       "<table border=\"1\" class=\"dataframe\">\n",
       "  <thead>\n",
       "    <tr style=\"text-align: right;\">\n",
       "      <th></th>\n",
       "      <th>p (mbar)</th>\n",
       "      <th>T (degC)</th>\n",
       "      <th>Tpot (K)</th>\n",
       "      <th>Tdew (degC)</th>\n",
       "      <th>rh (%)</th>\n",
       "      <th>VPmax (mbar)</th>\n",
       "      <th>VPact (mbar)</th>\n",
       "      <th>VPdef (mbar)</th>\n",
       "      <th>sh (g/kg)</th>\n",
       "      <th>H2OC (mmol/mol)</th>\n",
       "      <th>...</th>\n",
       "      <th>wv (m/s)</th>\n",
       "      <th>max. wv (m/s)</th>\n",
       "      <th>wd (deg)</th>\n",
       "      <th>rain (mm)</th>\n",
       "      <th>raining (s)</th>\n",
       "      <th>SWDR (W/m²)</th>\n",
       "      <th>PAR (µmol/m²/s)</th>\n",
       "      <th>max. PAR (µmol/m²/s)</th>\n",
       "      <th>Tlog (degC)</th>\n",
       "      <th>CO2 (ppm)</th>\n",
       "    </tr>\n",
       "    <tr>\n",
       "      <th>datetime</th>\n",
       "      <th></th>\n",
       "      <th></th>\n",
       "      <th></th>\n",
       "      <th></th>\n",
       "      <th></th>\n",
       "      <th></th>\n",
       "      <th></th>\n",
       "      <th></th>\n",
       "      <th></th>\n",
       "      <th></th>\n",
       "      <th></th>\n",
       "      <th></th>\n",
       "      <th></th>\n",
       "      <th></th>\n",
       "      <th></th>\n",
       "      <th></th>\n",
       "      <th></th>\n",
       "      <th></th>\n",
       "      <th></th>\n",
       "      <th></th>\n",
       "      <th></th>\n",
       "    </tr>\n",
       "  </thead>\n",
       "  <tbody>\n",
       "  </tbody>\n",
       "</table>\n",
       "<p>0 rows × 21 columns</p>\n",
       "</div>"
      ],
      "text/plain": [
       "Empty DataFrame\n",
       "Columns: [p (mbar), T (degC), Tpot (K), Tdew (degC), rh (%), VPmax (mbar), VPact (mbar), VPdef (mbar), sh (g/kg), H2OC (mmol/mol), rho (g/m**3), wv (m/s), max. wv (m/s), wd (deg), rain (mm), raining (s), SWDR (W/m²), PAR (µmol/m²/s), max. PAR (µmol/m²/s), Tlog (degC), CO2 (ppm)]\n",
       "Index: []\n",
       "\n",
       "[0 rows x 21 columns]"
      ]
     },
     "execution_count": 86,
     "metadata": {},
     "output_type": "execute_result"
    }
   ],
   "source": [
    "# NA observations\n",
    "findnanrows(raw_data)"
   ]
  },
  {
   "cell_type": "code",
   "execution_count": 87,
   "metadata": {},
   "outputs": [],
   "source": [
    "raw_data.to_csv(\"raw_dataset.csv\")"
   ]
  },
  {
   "cell_type": "code",
   "execution_count": 88,
   "metadata": {},
   "outputs": [
    {
     "name": "stdout",
     "output_type": "stream",
     "text": [
      "==> 497 rows have been filled <==\n"
     ]
    }
   ],
   "source": [
    "df = interpolatedata(raw_data)"
   ]
  },
  {
   "cell_type": "code",
   "execution_count": 89,
   "metadata": {},
   "outputs": [
    {
     "data": {
      "text/plain": [
       "(263088, 21)"
      ]
     },
     "execution_count": 89,
     "metadata": {},
     "output_type": "execute_result"
    }
   ],
   "source": [
    "df.shape"
   ]
  },
  {
   "cell_type": "code",
   "execution_count": 90,
   "metadata": {},
   "outputs": [],
   "source": [
    "date_range = pd.date_range(start=\"2016-01-01 00:10:00\", end=\"2021-01-01 00:00:00\", freq=\"10T\")\n",
    "df.insert(0, \"date\", date_range)"
   ]
  },
  {
   "cell_type": "code",
   "execution_count": 91,
   "metadata": {},
   "outputs": [],
   "source": [
    "df = df.reset_index()"
   ]
  },
  {
   "cell_type": "code",
   "execution_count": 92,
   "metadata": {},
   "outputs": [],
   "source": [
    "df = df.iloc[:, 1:]"
   ]
  },
  {
   "cell_type": "code",
   "execution_count": 93,
   "metadata": {},
   "outputs": [],
   "source": [
    "df = df.set_index('date')"
   ]
  },
  {
   "cell_type": "code",
   "execution_count": 94,
   "metadata": {},
   "outputs": [],
   "source": [
    "hourly_df = df.resample(\"60T\").mean()"
   ]
  },
  {
   "cell_type": "code",
   "execution_count": 95,
   "metadata": {},
   "outputs": [
    {
     "data": {
      "text/plain": [
       "(43849, 21)"
      ]
     },
     "execution_count": 95,
     "metadata": {},
     "output_type": "execute_result"
    }
   ],
   "source": [
    "hourly_df.shape"
   ]
  },
  {
   "cell_type": "code",
   "execution_count": 97,
   "metadata": {},
   "outputs": [
    {
     "data": {
      "text/plain": [
       "count    43849.000000\n",
       "mean         2.057630\n",
       "std          8.097044\n",
       "min      -1664.906667\n",
       "25%          0.995000\n",
       "50%          1.716667\n",
       "75%          2.751667\n",
       "max         13.215000\n",
       "Name: wv (m/s), dtype: float64"
      ]
     },
     "execution_count": 97,
     "metadata": {},
     "output_type": "execute_result"
    }
   ],
   "source": [
    "hourly_df[\"wv (m/s)\"].describe()"
   ]
  },
  {
   "cell_type": "code",
   "execution_count": 98,
   "metadata": {},
   "outputs": [],
   "source": [
    "mean_wind = hourly_df[\"wv (m/s)\"].mean()\n",
    "min_wind = hourly_df[\"wv (m/s)\"].min()\n",
    "hourly_df[\"wv (m/s)\"] = hourly_df[\"wv (m/s)\"].replace(min_wind, mean_wind)"
   ]
  },
  {
   "cell_type": "code",
   "execution_count": 99,
   "metadata": {},
   "outputs": [],
   "source": [
    "hourly_df = hourly_df.reset_index()"
   ]
  },
  {
   "cell_type": "code",
   "execution_count": 105,
   "metadata": {},
   "outputs": [],
   "source": [
    "hourly_df.to_csv(\"hourly_df.csv\")"
   ]
  },
  {
   "cell_type": "code",
   "execution_count": 108,
   "metadata": {},
   "outputs": [
    {
     "data": {
      "image/png": "[encoded data removed]",
      "text/plain": [
       "<Figure size 720x432 with 1 Axes>"
      ]
     },
     "metadata": {
      "needs_background": "light"
     },
     "output_type": "display_data"
    }
   ],
   "source": [
    "plt.figure(figsize=(10, 6))\n",
    "plt.plot(hourly_df['date'], hourly_df[\"wv (m/s)\"], marker='o', linestyle='-', color='b', label='wind speed')\n",
    "plt.legend()\n",
    "plt.tight_layout()\n",
    "plt.show()"
   ]
  }
 ],
 "metadata": {
  "kernelspec": {
   "display_name": "base",
   "language": "python",
   "name": "python3"
  },
  "language_info": {
   "codemirror_mode": {
    "name": "ipython",
    "version": 3
   },
   "file_extension": ".py",
   "mimetype": "text/x-python",
   "name": "python",
   "nbconvert_exporter": "python",
   "pygments_lexer": "ipython3",
   "version": "3.9.12"
  }
 },
 "nbformat": 4,
 "nbformat_minor": 2
}
