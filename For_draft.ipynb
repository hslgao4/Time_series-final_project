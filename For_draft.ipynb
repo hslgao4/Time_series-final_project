{
 "cells": [
  {
   "cell_type": "code",
   "execution_count": 1,
   "metadata": {},
   "outputs": [],
   "source": [
    "import pandas as pd\n",
    "import numpy as np\n",
    "import matplotlib.pyplot as plt"
   ]
  },
  {
   "cell_type": "code",
   "execution_count": 2,
   "metadata": {},
   "outputs": [],
   "source": [
    "df = pd.read_csv(\"hourly_df.csv\")"
   ]
  },
  {
   "cell_type": "code",
   "execution_count": 23,
   "metadata": {},
   "outputs": [],
   "source": [
    "df = df.drop('Tpot (K)', axis=1)"
   ]
  },
  {
   "cell_type": "code",
   "execution_count": 24,
   "metadata": {},
   "outputs": [
    {
     "data": {
      "text/plain": [
       "(26305, 21)"
      ]
     },
     "execution_count": 24,
     "metadata": {},
     "output_type": "execute_result"
    }
   ],
   "source": [
    "df.shape"
   ]
  },
  {
   "cell_type": "code",
   "execution_count": 6,
   "metadata": {},
   "outputs": [
    {
     "data": {
      "text/plain": [
       "Index(['date', 'p (mbar)', 'T (degC)', 'Tpot (K)', 'Tdew (degC)', 'rh (%)',\n",
       "       'VPmax (mbar)', 'VPact (mbar)', 'VPdef (mbar)', 'sh (g/kg)',\n",
       "       'H2OC (mmol/mol)', 'rho (g/m**3)', 'wv (m/s)', 'max. wv (m/s)',\n",
       "       'wd (deg)', 'rain (mm)', 'raining (s)', 'SWDR (W/m²)',\n",
       "       'PAR (µmol/m²/s)', 'max. PAR (µmol/m²/s)', 'Tlog (degC)', 'CO2 (ppm)'],\n",
       "      dtype='object')"
      ]
     },
     "execution_count": 6,
     "metadata": {},
     "output_type": "execute_result"
    }
   ],
   "source": [
    "df.columns"
   ]
  },
  {
   "cell_type": "code",
   "execution_count": 9,
   "metadata": {},
   "outputs": [
    {
     "data": {
      "text/plain": [
       "count    26305.000000\n",
       "mean       403.967715\n",
       "std        447.339439\n",
       "min      -9999.000000\n",
       "25%        412.416667\n",
       "50%        421.050000\n",
       "75%        433.916667\n",
       "max        525.600000\n",
       "Name: CO2 (ppm), dtype: float64"
      ]
     },
     "execution_count": 9,
     "metadata": {},
     "output_type": "execute_result"
    }
   ],
   "source": [
    "df['CO2 (ppm)'].describe()"
   ]
  },
  {
   "cell_type": "code",
   "execution_count": 22,
   "metadata": {},
   "outputs": [
    {
     "data": {
      "text/html": [
       "<div>\n",
       "<style scoped>\n",
       "    .dataframe tbody tr th:only-of-type {\n",
       "        vertical-align: middle;\n",
       "    }\n",
       "\n",
       "    .dataframe tbody tr th {\n",
       "        vertical-align: top;\n",
       "    }\n",
       "\n",
       "    .dataframe thead th {\n",
       "        text-align: right;\n",
       "    }\n",
       "</style>\n",
       "<table border=\"1\" class=\"dataframe\">\n",
       "  <thead>\n",
       "    <tr style=\"text-align: right;\">\n",
       "      <th></th>\n",
       "      <th>p (mbar)</th>\n",
       "      <th>T (degC)</th>\n",
       "      <th>Tpot (K)</th>\n",
       "      <th>Tdew (degC)</th>\n",
       "      <th>rh (%)</th>\n",
       "      <th>VPmax (mbar)</th>\n",
       "      <th>VPact (mbar)</th>\n",
       "      <th>VPdef (mbar)</th>\n",
       "      <th>sh (g/kg)</th>\n",
       "      <th>H2OC (mmol/mol)</th>\n",
       "      <th>...</th>\n",
       "      <th>wv (m/s)</th>\n",
       "      <th>max. wv (m/s)</th>\n",
       "      <th>wd (deg)</th>\n",
       "      <th>rain (mm)</th>\n",
       "      <th>raining (s)</th>\n",
       "      <th>SWDR (W/m²)</th>\n",
       "      <th>PAR (µmol/m²/s)</th>\n",
       "      <th>max. PAR (µmol/m²/s)</th>\n",
       "      <th>Tlog (degC)</th>\n",
       "      <th>CO2 (ppm)</th>\n",
       "    </tr>\n",
       "  </thead>\n",
       "  <tbody>\n",
       "    <tr>\n",
       "      <th>count</th>\n",
       "      <td>26305.000000</td>\n",
       "      <td>26305.000000</td>\n",
       "      <td>26305.000000</td>\n",
       "      <td>26305.000000</td>\n",
       "      <td>26305.000000</td>\n",
       "      <td>26305.000000</td>\n",
       "      <td>26305.000000</td>\n",
       "      <td>26305.000000</td>\n",
       "      <td>26305.000000</td>\n",
       "      <td>26305.000000</td>\n",
       "      <td>...</td>\n",
       "      <td>26305.000000</td>\n",
       "      <td>26305.000000</td>\n",
       "      <td>26305.000000</td>\n",
       "      <td>26305.000000</td>\n",
       "      <td>26305.000000</td>\n",
       "      <td>26305.000000</td>\n",
       "      <td>26305.000000</td>\n",
       "      <td>26305.000000</td>\n",
       "      <td>26305.000000</td>\n",
       "      <td>26305.000000</td>\n",
       "    </tr>\n",
       "    <tr>\n",
       "      <th>mean</th>\n",
       "      <td>989.437906</td>\n",
       "      <td>10.770476</td>\n",
       "      <td>284.797358</td>\n",
       "      <td>5.327192</td>\n",
       "      <td>72.102110</td>\n",
       "      <td>14.740641</td>\n",
       "      <td>9.680360</td>\n",
       "      <td>5.060209</td>\n",
       "      <td>6.114879</td>\n",
       "      <td>9.788203</td>\n",
       "      <td>...</td>\n",
       "      <td>2.120766</td>\n",
       "      <td>3.561036</td>\n",
       "      <td>172.243029</td>\n",
       "      <td>0.008101</td>\n",
       "      <td>26.630172</td>\n",
       "      <td>131.993749</td>\n",
       "      <td>258.725775</td>\n",
       "      <td>306.177007</td>\n",
       "      <td>21.689711</td>\n",
       "      <td>403.967715</td>\n",
       "    </tr>\n",
       "    <tr>\n",
       "      <th>std</th>\n",
       "      <td>9.020911</td>\n",
       "      <td>8.196534</td>\n",
       "      <td>8.293470</td>\n",
       "      <td>6.281129</td>\n",
       "      <td>17.961974</td>\n",
       "      <td>8.362195</td>\n",
       "      <td>4.051785</td>\n",
       "      <td>5.846911</td>\n",
       "      <td>2.573912</td>\n",
       "      <td>4.103784</td>\n",
       "      <td>...</td>\n",
       "      <td>1.502743</td>\n",
       "      <td>2.318326</td>\n",
       "      <td>70.715697</td>\n",
       "      <td>0.068959</td>\n",
       "      <td>100.301720</td>\n",
       "      <td>212.015424</td>\n",
       "      <td>412.091685</td>\n",
       "      <td>495.897059</td>\n",
       "      <td>8.339060</td>\n",
       "      <td>447.339439</td>\n",
       "    </tr>\n",
       "    <tr>\n",
       "      <th>min</th>\n",
       "      <td>953.550000</td>\n",
       "      <td>-13.330000</td>\n",
       "      <td>260.145000</td>\n",
       "      <td>-16.691667</td>\n",
       "      <td>18.175000</td>\n",
       "      <td>2.180000</td>\n",
       "      <td>1.645000</td>\n",
       "      <td>0.000000</td>\n",
       "      <td>1.026667</td>\n",
       "      <td>1.653333</td>\n",
       "      <td>...</td>\n",
       "      <td>0.000000</td>\n",
       "      <td>0.000000</td>\n",
       "      <td>0.000000</td>\n",
       "      <td>0.000000</td>\n",
       "      <td>0.000000</td>\n",
       "      <td>0.000000</td>\n",
       "      <td>0.000000</td>\n",
       "      <td>-6146.695000</td>\n",
       "      <td>-4.276667</td>\n",
       "      <td>-9999.000000</td>\n",
       "    </tr>\n",
       "    <tr>\n",
       "      <th>25%</th>\n",
       "      <td>984.346667</td>\n",
       "      <td>4.251667</td>\n",
       "      <td>278.316667</td>\n",
       "      <td>0.805000</td>\n",
       "      <td>59.548333</td>\n",
       "      <td>8.283333</td>\n",
       "      <td>6.476667</td>\n",
       "      <td>1.231667</td>\n",
       "      <td>4.083333</td>\n",
       "      <td>6.548333</td>\n",
       "      <td>...</td>\n",
       "      <td>0.993333</td>\n",
       "      <td>1.766667</td>\n",
       "      <td>135.228333</td>\n",
       "      <td>0.000000</td>\n",
       "      <td>0.000000</td>\n",
       "      <td>0.000000</td>\n",
       "      <td>0.000000</td>\n",
       "      <td>0.000000</td>\n",
       "      <td>14.988333</td>\n",
       "      <td>412.416667</td>\n",
       "    </tr>\n",
       "    <tr>\n",
       "      <th>50%</th>\n",
       "      <td>989.926667</td>\n",
       "      <td>10.225000</td>\n",
       "      <td>284.376667</td>\n",
       "      <td>5.423333</td>\n",
       "      <td>75.033333</td>\n",
       "      <td>12.485000</td>\n",
       "      <td>8.991667</td>\n",
       "      <td>2.738333</td>\n",
       "      <td>5.683333</td>\n",
       "      <td>9.105000</td>\n",
       "      <td>...</td>\n",
       "      <td>1.740000</td>\n",
       "      <td>2.983333</td>\n",
       "      <td>187.550000</td>\n",
       "      <td>0.000000</td>\n",
       "      <td>0.000000</td>\n",
       "      <td>5.048333</td>\n",
       "      <td>13.286667</td>\n",
       "      <td>16.568333</td>\n",
       "      <td>20.640000</td>\n",
       "      <td>421.050000</td>\n",
       "    </tr>\n",
       "    <tr>\n",
       "      <th>75%</th>\n",
       "      <td>995.276667</td>\n",
       "      <td>16.743333</td>\n",
       "      <td>290.790000</td>\n",
       "      <td>10.178333</td>\n",
       "      <td>86.383333</td>\n",
       "      <td>19.100000</td>\n",
       "      <td>12.443333</td>\n",
       "      <td>6.728333</td>\n",
       "      <td>7.871667</td>\n",
       "      <td>12.596667</td>\n",
       "      <td>...</td>\n",
       "      <td>2.813333</td>\n",
       "      <td>4.780000</td>\n",
       "      <td>218.450000</td>\n",
       "      <td>0.000000</td>\n",
       "      <td>0.000000</td>\n",
       "      <td>188.901667</td>\n",
       "      <td>373.873333</td>\n",
       "      <td>440.476667</td>\n",
       "      <td>27.463333</td>\n",
       "      <td>433.916667</td>\n",
       "    </tr>\n",
       "    <tr>\n",
       "      <th>max</th>\n",
       "      <td>1020.038333</td>\n",
       "      <td>36.371667</td>\n",
       "      <td>310.803333</td>\n",
       "      <td>20.070000</td>\n",
       "      <td>100.000000</td>\n",
       "      <td>60.700000</td>\n",
       "      <td>23.523333</td>\n",
       "      <td>46.578333</td>\n",
       "      <td>14.930000</td>\n",
       "      <td>23.786667</td>\n",
       "      <td>...</td>\n",
       "      <td>13.215000</td>\n",
       "      <td>19.673333</td>\n",
       "      <td>357.100000</td>\n",
       "      <td>3.700000</td>\n",
       "      <td>600.000000</td>\n",
       "      <td>947.751667</td>\n",
       "      <td>1835.908333</td>\n",
       "      <td>2304.921667</td>\n",
       "      <td>49.020000</td>\n",
       "      <td>525.600000</td>\n",
       "    </tr>\n",
       "  </tbody>\n",
       "</table>\n",
       "<p>8 rows × 21 columns</p>\n",
       "</div>"
      ],
      "text/plain": [
       "           p (mbar)      T (degC)      Tpot (K)   Tdew (degC)        rh (%)  \\\n",
       "count  26305.000000  26305.000000  26305.000000  26305.000000  26305.000000   \n",
       "mean     989.437906     10.770476    284.797358      5.327192     72.102110   \n",
       "std        9.020911      8.196534      8.293470      6.281129     17.961974   \n",
       "min      953.550000    -13.330000    260.145000    -16.691667     18.175000   \n",
       "25%      984.346667      4.251667    278.316667      0.805000     59.548333   \n",
       "50%      989.926667     10.225000    284.376667      5.423333     75.033333   \n",
       "75%      995.276667     16.743333    290.790000     10.178333     86.383333   \n",
       "max     1020.038333     36.371667    310.803333     20.070000    100.000000   \n",
       "\n",
       "       VPmax (mbar)  VPact (mbar)  VPdef (mbar)     sh (g/kg)  \\\n",
       "count  26305.000000  26305.000000  26305.000000  26305.000000   \n",
       "mean      14.740641      9.680360      5.060209      6.114879   \n",
       "std        8.362195      4.051785      5.846911      2.573912   \n",
       "min        2.180000      1.645000      0.000000      1.026667   \n",
       "25%        8.283333      6.476667      1.231667      4.083333   \n",
       "50%       12.485000      8.991667      2.738333      5.683333   \n",
       "75%       19.100000     12.443333      6.728333      7.871667   \n",
       "max       60.700000     23.523333     46.578333     14.930000   \n",
       "\n",
       "       H2OC (mmol/mol)  ...      wv (m/s)  max. wv (m/s)      wd (deg)  \\\n",
       "count     26305.000000  ...  26305.000000   26305.000000  26305.000000   \n",
       "mean          9.788203  ...      2.120766       3.561036    172.243029   \n",
       "std           4.103784  ...      1.502743       2.318326     70.715697   \n",
       "min           1.653333  ...      0.000000       0.000000      0.000000   \n",
       "25%           6.548333  ...      0.993333       1.766667    135.228333   \n",
       "50%           9.105000  ...      1.740000       2.983333    187.550000   \n",
       "75%          12.596667  ...      2.813333       4.780000    218.450000   \n",
       "max          23.786667  ...     13.215000      19.673333    357.100000   \n",
       "\n",
       "          rain (mm)   raining (s)   SWDR (W/m²)  PAR (µmol/m²/s)  \\\n",
       "count  26305.000000  26305.000000  26305.000000     26305.000000   \n",
       "mean       0.008101     26.630172    131.993749       258.725775   \n",
       "std        0.068959    100.301720    212.015424       412.091685   \n",
       "min        0.000000      0.000000      0.000000         0.000000   \n",
       "25%        0.000000      0.000000      0.000000         0.000000   \n",
       "50%        0.000000      0.000000      5.048333        13.286667   \n",
       "75%        0.000000      0.000000    188.901667       373.873333   \n",
       "max        3.700000    600.000000    947.751667      1835.908333   \n",
       "\n",
       "       max. PAR (µmol/m²/s)   Tlog (degC)     CO2 (ppm)  \n",
       "count          26305.000000  26305.000000  26305.000000  \n",
       "mean             306.177007     21.689711    403.967715  \n",
       "std              495.897059      8.339060    447.339439  \n",
       "min            -6146.695000     -4.276667  -9999.000000  \n",
       "25%                0.000000     14.988333    412.416667  \n",
       "50%               16.568333     20.640000    421.050000  \n",
       "75%              440.476667     27.463333    433.916667  \n",
       "max             2304.921667     49.020000    525.600000  \n",
       "\n",
       "[8 rows x 21 columns]"
      ]
     },
     "execution_count": 22,
     "metadata": {},
     "output_type": "execute_result"
    }
   ],
   "source": [
    "df.describe()"
   ]
  },
  {
   "cell_type": "code",
   "execution_count": 19,
   "metadata": {},
   "outputs": [],
   "source": [
    "\n",
    "count_exceeding_mean = (df['CO2 (ppm)'] < 0).sum()"
   ]
  },
  {
   "cell_type": "code",
   "execution_count": 20,
   "metadata": {},
   "outputs": [
    {
     "data": {
      "text/plain": [
       "26305"
      ]
     },
     "execution_count": 20,
     "metadata": {},
     "output_type": "execute_result"
    }
   ],
   "source": [
    "len(df['CO2 (ppm)'])"
   ]
  },
  {
   "cell_type": "code",
   "execution_count": 21,
   "metadata": {},
   "outputs": [
    {
     "data": {
      "text/plain": [
       "64"
      ]
     },
     "execution_count": 21,
     "metadata": {},
     "output_type": "execute_result"
    }
   ],
   "source": [
    "count_exceeding_mean"
   ]
  },
  {
   "cell_type": "code",
   "execution_count": 18,
   "metadata": {},
   "outputs": [
    {
     "data": {
      "image/png": "[encoded data removed]",
      "text/plain": [
       "<Figure size 720x432 with 1 Axes>"
      ]
     },
     "metadata": {
      "needs_background": "light"
     },
     "output_type": "display_data"
    }
   ],
   "source": [
    "plt.figure(figsize=(10, 6))\n",
    "plt.plot(df['CO2 (ppm)'].iloc[:5000], linestyle='-',  lw = 1.5)\n",
    "plt.show()"
   ]
  }
 ],
 "metadata": {
  "kernelspec": {
   "display_name": "base",
   "language": "python",
   "name": "python3"
  },
  "language_info": {
   "codemirror_mode": {
    "name": "ipython",
    "version": 3
   },
   "file_extension": ".py",
   "mimetype": "text/x-python",
   "name": "python",
   "nbconvert_exporter": "python",
   "pygments_lexer": "ipython3",
   "version": "3.9.12"
  }
 },
 "nbformat": 4,
 "nbformat_minor": 2
}
